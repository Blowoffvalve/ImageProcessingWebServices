{
 "cells": [
  {
   "cell_type": "code",
   "execution_count": 1,
   "metadata": {},
   "outputs": [],
   "source": [
    "# import the necessary packages\n",
    "from imutils.video import VideoStream\n",
    "from imutils.video import FPS\n",
    "import numpy as np\n",
    "import argparse\n",
    "import imutils\n",
    "import time\n",
    "import cv2\n",
    "import psutil\n",
    "import os"
   ]
  },
  {
   "cell_type": "code",
   "execution_count": 2,
   "metadata": {},
   "outputs": [],
   "source": [
    "# initialize the list of class labels MobileNet SSD was trained to\n",
    "# detect, then generate a set of bounding box colors for each class\n",
    "CLASSES = [\"background\", \"aeroplane\", \"bicycle\", \"bird\", \"boat\", \n",
    "           \"bottle\", \"bus\", \"car\", \"cat\", \"chair\", \"cow\", \"diningtable\",\n",
    "           \"dog\", \"horse\", \"motorbike\", \"person\", \"pottedplant\", \"sheep\",\n",
    "           \"sofa\", \"train\", \"tvmonitor\"]\n",
    "IGNORE = set([\"bus\", \"tvmonitor\", \"diningtable\", \"aeroplane\", \"sofa\", \"boat\", \"person\", \"pottedplant\"])"
   ]
  },
  {
   "cell_type": "code",
   "execution_count": 17,
   "metadata": {},
   "outputs": [
    {
     "name": "stdout",
     "output_type": "stream",
     "text": [
      "[INFO] loading model...\n",
      "[INFO] starting video stream...\n"
     ]
    }
   ],
   "source": [
    "COLORS = np.random.uniform(0, 255, size=(len(CLASSES), 3))\n",
    " \n",
    "# load our serialized model from disk\n",
    "print(\"[INFO] loading model...\")\n",
    "net = cv2.dnn.readNetFromCaffe(\"./MobileNetSSD_deploy.prototxt.txt\", \"./MobileNetSSD_deploy.caffemodel\")\n",
    "#net = cv2.dnn.readNetFromCaffe(\"./yolo_deploy.prototxt.txt\", \"./yolo.caffemodel\")\n",
    "#net = cv2.dnn.readNetFromCaffe(\"./rcnn.txt\", \"./bvlc_reference_rcnn_ilsvrc13.caffemodel\")\n",
    "#net = cv2.dnn.readNetFromCaffe(\"./all_Cnn.prototxt.txt\", \"./ALL_CNN_C_iter_52000.caffemodel\")\n",
    "  \n",
    "# initialize the video stream, allow the cammera sensor to warmup,\n",
    "# and initialize the FPS counter\n",
    "print(\"[INFO] starting video stream...\")\n",
    "vs = cv2.VideoCapture(\"project_video.mp4\")\n",
    "time.sleep(2.0)\n",
    "fps = FPS().start()"
   ]
  },
  {
   "cell_type": "code",
   "execution_count": 21,
   "metadata": {},
   "outputs": [
    {
     "name": "stdout",
     "output_type": "stream",
     "text": [
      "[INFO] elapsed time: 414.22\n",
      "[INFO] approx. FPS: 3.02\n"
     ]
    }
   ],
   "source": [
    "# loop over the frames from the video stream\n",
    "grabbed, frame = vs.read()\n",
    "\n",
    "inputFPS = round(vs.get(cv2.CAP_PROP_FPS), 1)\n",
    "startTime = time.time()\n",
    "frameCount = 1\n",
    "pid = os.getpid()\n",
    "cpu = []\n",
    "memory = []\n",
    "peakFPS = 0\n",
    "\n",
    "averageFPS =0\n",
    "fpsList = []\n",
    "bytesToGB = 1024**3 #Divisor to convert from Gigabytes to bytes\n",
    "while grabbed:\n",
    "    # grab the frame from the threaded video stream and resize it\n",
    "    # to have a maximum width of 400 pixels\n",
    "    frame = imutils.resize(frame, width=540)\n",
    "    \n",
    "    \n",
    "    py = psutil.Process(pid)\n",
    "    frameStartTime = time.time()\n",
    "    \n",
    "    # grab the frame dimensions and convert it to a blob\n",
    "    (h, w) = frame.shape[:2]\n",
    "    blob = cv2.dnn.blobFromImage(cv2.resize(frame, (720, 540)),\n",
    "        0.007843, (720, 540), 127.5)\n",
    " \n",
    "    # pass the blob through the network and obtain the detections and\n",
    "    # predictions\n",
    "    net.setInput(blob)\n",
    "    detections = net.forward()\n",
    "    \n",
    "    \n",
    "    currentTrackingFPS = 1.0/(time.time() - frameStartTime)\n",
    "    fpsList.append(currentTrackingFPS)\n",
    "    \n",
    "    #Get resource Metrics\n",
    "    memory.append(py.memory_info()[0]/bytesToGB)\n",
    "    cpu.append(psutil.cpu_percent())\n",
    "    \n",
    "    \n",
    "    # loop over the detections\n",
    "    for i in np.arange(0, detections.shape[2]):\n",
    "        # extract the confidence (i.e., probability) associated with\n",
    "        # the prediction\n",
    "        confidence = detections[0, 0, i, 2]\n",
    " \n",
    "        # filter out weak detections by ensuring the `confidence` is\n",
    "        # greater than the minimum confidence\n",
    "        if confidence > 0.7:\n",
    "            # extract the index of the class label from the\n",
    "            # `detections`\n",
    "            idx = int(detections[0, 0, i, 1])\n",
    "\n",
    "            # if the predicted class label is in the set of classes\n",
    "            # we want to ignore then skip the detection\n",
    "            if CLASSES[idx] in IGNORE:\n",
    "                continue\n",
    "    \n",
    "            # compute the (x, y)-coordinates of the bounding box for\n",
    "            # the object\n",
    "            box = detections[0, 0, i, 3:7] * np.array([w, h, w, h])\n",
    "            (startX, startY, endX, endY) = box.astype(\"int\")\n",
    "             \n",
    "            # draw the prediction on the frame\n",
    "            label = \"{}: {:.2f}%\".format(CLASSES[idx],\n",
    "                confidence * 100)\n",
    "            cv2.rectangle(frame, (startX, startY), (endX, endY),\n",
    "                COLORS[idx], 2)\n",
    "            y = startY - 15 if startY - 15 > 15 else startY + 15\n",
    "            cv2.putText(frame, label, (startX, y),\n",
    "                cv2.FONT_HERSHEY_SIMPLEX, 0.5, COLORS[idx], 2)\n",
    "            \n",
    "    #Write the fps on the screen\n",
    "    inputFPSText = \"Input FPS: \" + str(inputFPS)\n",
    "    avgTrackingFPSText = \"Average Tracking FPS: \" + str(round(np.mean(fpsList), 3))\n",
    "    currentTrackingFPSText = \"Current Tracking FPS: \" + str(round(currentTrackingFPS, 3))\n",
    "\n",
    "\n",
    "    #Write on the Frame\n",
    "    cv2.putText(frame, avgTrackingFPSText, (10, 40), cv2.FONT_HERSHEY_SIMPLEX, 0.5, (255, 255, 0), 1, cv2.LINE_AA )\n",
    "    cv2.putText(frame, currentTrackingFPSText, (10, 60), cv2.FONT_HERSHEY_SIMPLEX, 0.5, (0, 0, 255), 1, cv2.LINE_AA )\n",
    "    cv2.putText(frame, inputFPSText, (10, 80), cv2.FONT_HERSHEY_SIMPLEX, 0.5, (0, 255, 0), 1, cv2.LINE_AA )\n",
    "    \n",
    "    \n",
    "    # show the output frame\n",
    "    cv2.imshow(\"Frame\", frame)\n",
    "    key = cv2.waitKey(1) & 0xFF\n",
    " \n",
    "    # if the `q` key was pressed, break from the loop\n",
    "    if key == ord(\"q\"):\n",
    "        break\n",
    " \n",
    "    # update the FPS counter\n",
    "    fps.update()\n",
    "    grabbed, frame = vs.read()\n",
    " \n",
    "# stop the timer and display FPS information\n",
    "fps.stop()\n",
    "print(\"[INFO] elapsed time: {:.2f}\".format(fps.elapsed()))\n",
    "print(\"[INFO] approx. FPS: {:.2f}\".format(fps.fps()))\n",
    " \n",
    "# do a bit of cleanup\n",
    "cv2.destroyAllWindows()"
   ]
  },
  {
   "cell_type": "code",
   "execution_count": 14,
   "metadata": {},
   "outputs": [
    {
     "data": {
      "text/plain": [
       "4.75668711795593"
      ]
     },
     "execution_count": 14,
     "metadata": {},
     "output_type": "execute_result"
    }
   ],
   "source": [
    "avgTrackingFPSText\n",
    "np.max(fpsList)"
   ]
  },
  {
   "cell_type": "code",
   "execution_count": null,
   "metadata": {},
   "outputs": [],
   "source": []
  }
 ],
 "metadata": {
  "kernelspec": {
   "display_name": "Python 3",
   "language": "python",
   "name": "python3"
  },
  "language_info": {
   "codemirror_mode": {
    "name": "ipython",
    "version": 3
   },
   "file_extension": ".py",
   "mimetype": "text/x-python",
   "name": "python",
   "nbconvert_exporter": "python",
   "pygments_lexer": "ipython3",
   "version": "3.6.7"
  }
 },
 "nbformat": 4,
 "nbformat_minor": 2
}
